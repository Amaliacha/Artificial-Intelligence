{
 "cells": [
  {
   "cell_type": "code",
   "execution_count": 12,
   "metadata": {},
   "outputs": [
    {
     "name": "stdout",
     "output_type": "stream",
     "text": [
      "Index(['Time', 'Latitude', 'Longitude', 'Population_Density', 'Crime_Type',\n",
      "       'Crime_Frequency', 'Crime_Occurred'],\n",
      "      dtype='object')\n",
      "Mean Squared Error: 9.416666666666666\n",
      "R-squared: -0.1452702702702704\n"
     ]
    }
   ],
   "source": [
    "import pandas as pd\n",
    "from sklearn.model_selection import train_test_split\n",
    "from sklearn.linear_model import LinearRegression\n",
    "from sklearn.metrics import mean_squared_error, r2_score\n",
    "from sklearn.preprocessing import StandardScaler\n",
    "\n",
    "# Load the data\n",
    "data = pd.read_csv('../Data/Crime_data.csv')\n",
    "\n",
    "# Remove leading/trailing spaces from column names\n",
    "data.columns = data.columns.str.strip()\n",
    "\n",
    "# Inspect the columns\n",
    "print(data.columns)\n",
    "\n",
    "# Selecting features and target for regression\n",
    "X_regression = data[['Latitude', 'Longitude', 'Population_Density']]  # Features\n",
    "y_regression = data['Crime_Frequency']  # Target variable (Crime Frequency)\n",
    "\n",
    "# Handle missing values if necessary (for this example, we'll drop rows with missing values)\n",
    "data = data.dropna()\n",
    "\n",
    "# Feature scaling for regression (standardization)\n",
    "scaler = StandardScaler()\n",
    "X_regression_scaled = scaler.fit_transform(X_regression)\n",
    "\n",
    "# Split data into training and testing sets\n",
    "X_train, X_test, y_train, y_test = train_test_split(X_regression_scaled, y_regression, test_size=0.2, random_state=42)\n",
    "\n",
    "# Train a linear regression model\n",
    "regressor = LinearRegression()\n",
    "regressor.fit(X_train, y_train)\n",
    "\n",
    "# Make predictions on the test set\n",
    "y_pred = regressor.predict(X_test)\n",
    "\n",
    "# Evaluate the model\n",
    "mse = mean_squared_error(y_test, y_pred)\n",
    "r2 = r2_score(y_test, y_pred)\n",
    "\n",
    "print(f'Mean Squared Error: {mse}')\n",
    "print(f'R-squared: {r2}')\n"
   ]
  }
 ],
 "metadata": {
  "kernelspec": {
   "display_name": "Python 3",
   "language": "python",
   "name": "python3"
  },
  "language_info": {
   "codemirror_mode": {
    "name": "ipython",
    "version": 3
   },
   "file_extension": ".py",
   "mimetype": "text/x-python",
   "name": "python",
   "nbconvert_exporter": "python",
   "pygments_lexer": "ipython3",
   "version": "3.11.0"
  }
 },
 "nbformat": 4,
 "nbformat_minor": 2
}
