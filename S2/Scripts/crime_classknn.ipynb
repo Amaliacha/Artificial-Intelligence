{
 "cells": [
  {
   "cell_type": "code",
   "execution_count": 12,
   "metadata": {},
   "outputs": [
    {
     "name": "stdout",
     "output_type": "stream",
     "text": [
      "KNN results saved successfully.\n"
     ]
    }
   ],
   "source": [
    "import os\n",
    "import pandas as pd\n",
    "from sklearn.model_selection import train_test_split\n",
    "from sklearn.neighbors import KNeighborsClassifier\n",
    "from sklearn.metrics import classification_report, accuracy_score\n",
    "from sklearn.preprocessing import StandardScaler\n",
    "\n",
    "# Ensure the 'Results' folder exists\n",
    "results_folder = os.path.join('S2', 'Results')\n",
    "os.makedirs(results_folder, exist_ok=True)  # This will create the folder if it doesn't exist\n",
    "\n",
    "# Load the data\n",
    "data = pd.read_csv('../Data/Crime_data.csv')\n",
    "\n",
    "# Remove leading/trailing spaces from column names\n",
    "data.columns = data.columns.str.strip()\n",
    "\n",
    "# Selecting features and target for classification\n",
    "X_classification = data[['Population_Density', 'Crime_Frequency']]  # Features\n",
    "y_classification = data['Crime_Occurred']  # Target variable (Crime Occurred, 0 or 1)\n",
    "\n",
    "# Handle missing values if necessary (for this example, we'll drop rows with missing values)\n",
    "data = data.dropna()\n",
    "\n",
    "# Feature scaling for classification (standardization)\n",
    "scaler = StandardScaler()\n",
    "X_classification_scaled = scaler.fit_transform(X_classification)\n",
    "\n",
    "# Split data into training and testing sets\n",
    "X_train, X_test, y_train, y_test = train_test_split(X_classification_scaled, y_classification, test_size=0.2, random_state=42)\n",
    "\n",
    "# Initialize and train the KNN classifier\n",
    "knn = KNeighborsClassifier(n_neighbors=5)\n",
    "knn.fit(X_train, y_train)\n",
    "\n",
    "# Predict on the test set with KNN\n",
    "y_pred_knn = knn.predict(X_test)\n",
    "\n",
    "# Calculate accuracy and classification report for KNN\n",
    "accuracy_knn = accuracy_score(y_test, y_pred_knn)\n",
    "report_knn = classification_report(y_test, y_pred_knn)\n",
    "\n",
    "# Prepare the KNN results to save\n",
    "knn_results = (\n",
    "    f\"KNN Model Evaluation:\\n\"\n",
    "    f\"Accuracy: {accuracy_knn}\\n\"\n",
    "    f\"Classification Report:\\n{report_knn}\\n\"\n",
    ")\n",
    "\n",
    "# Save the KNN results in a text file in the 'Results' folder\n",
    "with open(os.path.join(results_folder, 'knn_results.txt'), 'w') as file:\n",
    "    file.write(knn_results)\n",
    "\n",
    "print(\"KNN results saved successfully.\")\n"
   ]
  }
 ],
 "metadata": {
  "kernelspec": {
   "display_name": "Python 3",
   "language": "python",
   "name": "python3"
  },
  "language_info": {
   "codemirror_mode": {
    "name": "ipython",
    "version": 3
   },
   "file_extension": ".py",
   "mimetype": "text/x-python",
   "name": "python",
   "nbconvert_exporter": "python",
   "pygments_lexer": "ipython3",
   "version": "3.11.0"
  }
 },
 "nbformat": 4,
 "nbformat_minor": 2
}
